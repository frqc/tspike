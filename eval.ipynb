{
 "metadata": {
  "language_info": {
   "codemirror_mode": {
    "name": "ipython",
    "version": 3
   },
   "file_extension": ".py",
   "mimetype": "text/x-python",
   "name": "python",
   "nbconvert_exporter": "python",
   "pygments_lexer": "ipython3",
   "version": "3.9.4-final"
  },
  "orig_nbformat": 2,
  "kernelspec": {
   "name": "python394jvsc74a57bd08ededbf7cc2ff66e9bad7e7574e085cee537ae9711bce70129d1edaa44d72590",
   "display_name": "Python 3.9.4 64-bit"
  },
  "metadata": {
   "interpreter": {
    "hash": "8ededbf7cc2ff66e9bad7e7574e085cee537ae9711bce70129d1edaa44d72590"
   }
  }
 },
 "nbformat": 4,
 "nbformat_minor": 2,
 "cells": [
  {
   "cell_type": "code",
   "execution_count": 61,
   "metadata": {},
   "outputs": [],
   "source": [
    "from dataset import NMnistSampled\n",
    "import numpy as np \n",
    "import torch\n",
    "import torch.nn as nn\n",
    "from torch.utils.data import DataLoader\n",
    "from tnn import *\n",
    "import matplotlib.pyplot as plt\n",
    "from tqdm import tqdm"
   ]
  },
  {
   "cell_type": "code",
   "execution_count": 15,
   "metadata": {},
   "outputs": [],
   "source": [
    "state = torch.load('model/n-mnist-cv')\n",
    "weight = state['weight']"
   ]
  },
  {
   "cell_type": "code",
   "execution_count": 24,
   "metadata": {},
   "outputs": [
    {
     "output_type": "stream",
     "name": "stdout",
     "text": [
      "Building convolutional TNN layer with theta=5.4000, dense=0.3000, fodep=48\n"
     ]
    },
    {
     "output_type": "execute_result",
     "data": {
      "text/plain": [
       "ConvColumn()"
      ]
     },
     "metadata": {},
     "execution_count": 24
    }
   ],
   "source": [
    "model = ConvColumn(\n",
    "    input_channel=2, output_channel=8, \n",
    "    kernel=3, stride=2,\n",
    "    step=16, leak=32,\n",
    "    dense=0.3, fodep=0, w_init=0.5\n",
    ").cuda()\n",
    "with torch.no_grad():\n",
    "    model.weight.set_(weight)\n",
    "model.train(False)"
   ]
  },
  {
   "cell_type": "code",
   "execution_count": 59,
   "metadata": {},
   "outputs": [],
   "source": [
    "train_data_loader = DataLoader(NMnistSampled('data/n-mnist/TrainSP', 34, 34, 256, device='cuda:0'), batch_size=32, shuffle=True)\n",
    "test_data_loader = DataLoader(NMnistSampled('data/n-mnist/TestSP', 34, 34, 256, device='cuda:0'), batch_size=32, shuffle=True)"
   ]
  },
  {
   "cell_type": "code",
   "execution_count": 63,
   "metadata": {},
   "outputs": [
    {
     "output_type": "stream",
     "name": "stderr",
     "text": [
      "100%|██████████| 313/313 [07:08<00:00,  1.37s/it]\n"
     ]
    }
   ],
   "source": [
    "result = [[], [], [], [], [], [], [], [], [], []]\n",
    "for input_spikes, labels in tqdm(test_data_loader):\n",
    "    output_spikes = model(input_spikes)\n",
    "    for label, output in zip(labels, output_spikes):\n",
    "        result[label].append(output.sum((-1, -2, -3)).cpu().numpy())"
   ]
  },
  {
   "cell_type": "code",
   "execution_count": 70,
   "metadata": {},
   "outputs": [],
   "source": [
    "rs = [np.vstack(r) for r in result]"
   ]
  },
  {
   "cell_type": "code",
   "execution_count": 71,
   "metadata": {},
   "outputs": [],
   "source": [
    "avgs = np.array([r.mean(0) for r in rs])"
   ]
  },
  {
   "cell_type": "code",
   "execution_count": 76,
   "metadata": {},
   "outputs": [],
   "source": [
    "float_formatter = \"{:5.2f}\".format\n",
    "np.set_printoptions(formatter={'float_kind':float_formatter})"
   ]
  },
  {
   "cell_type": "code",
   "execution_count": 77,
   "metadata": {},
   "outputs": [
    {
     "output_type": "stream",
     "name": "stdout",
     "text": [
      "[[29.23 28.30 25.86 29.33 17.86 96.56 35.25 29.33]\n [ 3.84  3.57  3.50  3.58  1.54 19.38  5.46  3.58]\n [27.53 26.63 24.83 27.63 16.94 90.44 32.32 27.63]\n [30.36 29.93 28.00 30.58 20.06 95.17 35.50 30.58]\n [15.26 14.58 14.76 14.62  9.39 55.03 18.19 14.62]\n [29.44 28.52 27.16 29.33 19.49 91.40 33.94 29.33]\n [22.01 21.08 20.24 21.69 13.39 75.84 25.77 21.69]\n [17.55 16.92 15.81 17.65 10.27 59.93 21.24 17.65]\n [27.27 27.77 25.97 27.24 17.93 91.47 32.40 27.24]\n [19.55 19.85 19.08 20.01 12.44 68.95 23.86 20.01]]\n"
     ]
    }
   ],
   "source": [
    "print(avgs)"
   ]
  },
  {
   "cell_type": "code",
   "execution_count": 58,
   "metadata": {},
   "outputs": [],
   "source": [
    "class LinearModel(nn.Module):\n",
    "    def __init__(self, input_size, output_size):\n",
    "        super(LinearModel, self).__init__()\n",
    "        self.layer = nn.Linear(input_size, output_size)\n",
    "    \n",
    "    def forward(self, input_data):\n",
    "        output = self.layer(input_data)\n",
    "        logits = torch.log_softmax(output, dim=1)\n",
    "        return logits"
   ]
  },
  {
   "cell_type": "code",
   "execution_count": 82,
   "metadata": {},
   "outputs": [],
   "source": [
    "tester = LinearModel(8, 10).cuda()\n",
    "tester.train()\n",
    "optimizer = torch.optim.Adam(model.parameters())\n",
    "error = torch.nn.CrossEntropyLoss()"
   ]
  },
  {
   "cell_type": "code",
   "execution_count": 86,
   "metadata": {},
   "outputs": [],
   "source": [
    "train_data_iterator = tqdm(train_data_loader)\n",
    "for data, label in train_data_iterator:\n",
    "    output_spikes = model.forward(data)\n",
    "    optimizer.zero_grad()\n",
    "    output = tester.forward(output_spikes.sum((-1, -2, -3)))\n",
    "    loss = error(output, label.cuda())\n",
    "    train_data_iterator.set_description(f'loss={loss.detach().cpu().numpy():.4f}')\n",
    "    loss.backward()\n",
    "    optimizer.step()"
   ]
  },
  {
   "cell_type": "code",
   "execution_count": 100,
   "metadata": {},
   "outputs": [],
   "source": [
    "tavg = torch.Tensor(avgs).cuda().T.unsqueeze(0)\n",
    "def predictor(x):\n",
    "    pass"
   ]
  },
  {
   "cell_type": "code",
   "execution_count": 112,
   "metadata": {},
   "outputs": [
    {
     "output_type": "stream",
     "name": "stderr",
     "text": [
      "100%|██████████| 1875/1875 [1:30:18<00:00,  2.89s/it]\n"
     ]
    }
   ],
   "source": [
    "features = []\n",
    "labels = []\n",
    "for data, label in tqdm(train_data_loader):\n",
    "    output_spikes = model.forward(data)\n",
    "    feature = output_spikes.sum((-1, -2, -3)).cpu().numpy()\n",
    "    features.append(feature)\n",
    "    labels.append(label.numpy())"
   ]
  },
  {
   "cell_type": "code",
   "execution_count": 117,
   "metadata": {},
   "outputs": [
    {
     "output_type": "execute_result",
     "data": {
      "text/plain": [
       "((60000, 8), (60000,), (10000, 8), (10000,))"
      ]
     },
     "metadata": {},
     "execution_count": 117
    }
   ],
   "source": [
    "X_train = np.vstack(features)\n",
    "Y_train = np.hstack(labels)\n",
    "X_test = np.vstack(rs)\n",
    "Y_test = np.hstack([\n",
    "    np.zeros(len(r), dtype=np.int64) + i\n",
    "    for i, r in enumerate(rs)\n",
    "])\n",
    "X_train.shape, Y_train.shape, X_test.shape, Y_test.shape"
   ]
  },
  {
   "cell_type": "code",
   "execution_count": 118,
   "metadata": {},
   "outputs": [
    {
     "output_type": "execute_result",
     "data": {
      "text/plain": [
       "GradientBoostingClassifier()"
      ]
     },
     "metadata": {},
     "execution_count": 118
    }
   ],
   "source": [
    "from sklearn.ensemble import GradientBoostingClassifier\n",
    "tester = GradientBoostingClassifier()\n",
    "tester.fit(X_train, Y_train)"
   ]
  },
  {
   "cell_type": "code",
   "execution_count": 119,
   "metadata": {},
   "outputs": [],
   "source": [
    "Y_pred = tester.predict(X_test)"
   ]
  },
  {
   "cell_type": "code",
   "execution_count": 120,
   "metadata": {},
   "outputs": [
    {
     "output_type": "execute_result",
     "data": {
      "text/plain": [
       "0.2929"
      ]
     },
     "metadata": {},
     "execution_count": 120
    }
   ],
   "source": [
    "from sklearn.metrics import *\n",
    "accuracy_score(Y_test, Y_pred)"
   ]
  },
  {
   "cell_type": "code",
   "execution_count": 121,
   "metadata": {},
   "outputs": [
    {
     "output_type": "execute_result",
     "data": {
      "text/plain": [
       "array([[ 356,   30,  161,  106,   51,    4,  105,  104,   32,   31],\n",
       "       [   0, 1056,    3,    0,   30,    0,   16,   22,    0,    8],\n",
       "       [ 248,   37,  197,  115,   77,    6,  115,  138,   45,   54],\n",
       "       [ 211,   33,  166,  198,   79,   18,   71,  127,   40,   67],\n",
       "       [  16,  121,   26,    1,  409,    1,  101,  228,    7,   72],\n",
       "       [ 132,   43,  133,  180,   87,   25,   76,  138,   23,   55],\n",
       "       [ 129,   69,   96,   67,  162,    4,  159,  175,   33,   64],\n",
       "       [  22,  109,   68,   24,  258,    2,  104,  376,    8,   57],\n",
       "       [ 218,   37,  139,  119,   99,   13,  105,  116,   56,   72],\n",
       "       [  64,  103,  108,   56,  209,    1,  107,  244,   20,   97]],\n",
       "      dtype=int64)"
      ]
     },
     "metadata": {},
     "execution_count": 121
    }
   ],
   "source": [
    "confusion_matrix(Y_test, Y_pred)"
   ]
  }
 ]
}