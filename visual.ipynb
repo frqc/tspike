{
 "cells": [
  {
   "cell_type": "code",
   "execution_count": 1,
   "id": "85ecfa2f",
   "metadata": {},
   "outputs": [],
   "source": [
    "%matplotlib ipympl"
   ]
  },
  {
   "cell_type": "code",
   "execution_count": 2,
   "id": "9e80af3c",
   "metadata": {},
   "outputs": [],
   "source": [
    "import numpy as np\n",
    "from dataset import NMnistSampled\n",
    "from torch.utils.data.dataloader import DataLoader\n",
    "\n",
    "\n",
    "import matplotlib.pyplot as plt\n",
    "from mpl_interactions import ipyplot as iplt\n",
    "from mpl_interactions import hyperslicer"
   ]
  },
  {
   "cell_type": "code",
   "execution_count": 3,
   "id": "45f26ebf",
   "metadata": {},
   "outputs": [],
   "source": [
    "train_path = \"data/n-mnist/TrainSP\"\n",
    "x_max = 34\n",
    "y_max = 34\n",
    "t_max = 256\n",
    "batch_size = 1\n",
    "\n",
    "train_data_loader = DataLoader(NMnistSampled(train_path, x_max, y_max, t_max), shuffle=False, batch_size=batch_size)"
   ]
  },
  {
   "cell_type": "code",
   "execution_count": 4,
   "id": "81bddf21",
   "metadata": {},
   "outputs": [],
   "source": [
    "for sample in train_data_loader:\n",
    "    break"
   ]
  },
  {
   "cell_type": "code",
   "execution_count": 5,
   "id": "60efde84-015e-4468-8cb7-4741512c9a83",
   "metadata": {},
   "outputs": [
    {
     "data": {
      "text/plain": [
       "tensor([6])"
      ]
     },
     "execution_count": 5,
     "metadata": {},
     "output_type": "execute_result"
    }
   ],
   "source": [
    "sample[1]"
   ]
  },
  {
   "cell_type": "code",
   "execution_count": 6,
   "id": "1926a1ba",
   "metadata": {},
   "outputs": [
    {
     "name": "stdout",
     "output_type": "stream",
     "text": [
      "tensor([6])\n"
     ]
    }
   ],
   "source": [
    "s_on = sample[0][0, 0, :, :] * 256\n",
    "s_off = sample[0][0, 1, :, :] * 256\n",
    "print(sample[1])"
   ]
  },
  {
   "cell_type": "code",
   "execution_count": 7,
   "id": "33eabc99",
   "metadata": {},
   "outputs": [],
   "source": [
    "ss_all_on = np.zeros((34,34))\n",
    "ss_all_off = np.zeros((34,34))\n",
    "\n",
    "for i in range(t_max):\n",
    "    ss_all_on += s_on[:, :, i].numpy()\n",
    "    ss_all_off += s_off[:, :, i].numpy()\n",
    "    \n",
    "# ss_all_on[ss_all_on>0] = 1\n",
    "# ss_all_off[ss_all_off>0] = 1"
   ]
  },
  {
   "cell_type": "code",
   "execution_count": 9,
   "id": "755b400f",
   "metadata": {},
   "outputs": [
    {
     "data": {
      "application/vnd.jupyter.widget-view+json": {
       "model_id": "e27dc71b801649aa8f28db3f04c2fb69",
       "version_major": 2,
       "version_minor": 0
      },
      "text/plain": [
       "Canvas(toolbar=Toolbar(toolitems=[('Home', 'Reset original view', 'home', 'home'), ('Back', 'Back to previous …"
      ]
     },
     "metadata": {},
     "output_type": "display_data"
    },
    {
     "data": {
      "application/vnd.jupyter.widget-view+json": {
       "model_id": "21ce41e8479e4db79a145c105bb7f6c8",
       "version_major": 2,
       "version_minor": 0
      },
      "text/plain": [
       "VBox(children=(HBox(children=(Play(value=0, max=255), IntSlider(value=0, description='axis0', max=255, readout…"
      ]
     },
     "metadata": {},
     "output_type": "display_data"
    }
   ],
   "source": [
    "fig, ((ax1, ax2),  (ax3, ax4)) = plt.subplots(2, 2)\n",
    "\n",
    "ax3.imshow(ss_all_on)\n",
    "ax4.imshow(ss_all_off)\n",
    "\n",
    "control1 = hyperslicer(\n",
    "    s_on.permute(2, 0, 1), vmin=0, vmax=t_max, play_buttons=True, play_button_pos=\"left\", ax=ax1\n",
    ")\n",
    "\n",
    "control2 = hyperslicer(\n",
    "    s_off.permute(2, 0, 1), vmin=0, vmax=t_max, play_buttons=True, play_button_pos=\"left\", ax=ax2, controls=control1\n",
    ")"
   ]
  },
  {
   "cell_type": "code",
   "execution_count": null,
   "id": "864aa486-ed6d-4e75-a934-d615545b3fe7",
   "metadata": {},
   "outputs": [],
   "source": []
  }
 ],
 "metadata": {
  "kernelspec": {
   "display_name": "Python 3",
   "language": "python",
   "name": "python3"
  },
  "language_info": {
   "codemirror_mode": {
    "name": "ipython",
    "version": 3
   },
   "file_extension": ".py",
   "mimetype": "text/x-python",
   "name": "python",
   "nbconvert_exporter": "python",
   "pygments_lexer": "ipython3",
   "version": "3.6.9"
  }
 },
 "nbformat": 4,
 "nbformat_minor": 5
}
